{
 "cells": [
  {
   "cell_type": "code",
   "execution_count": 8,
   "metadata": {},
   "outputs": [],
   "source": [
    "import numpy as np\n",
    "import json\n",
    "import pandas as pd\n",
    "import matplotlib.pyplot as plt\n",
    "%matplotlib inline\n",
    "from definitions import SAVED_MODELS_BASE_PATH\n",
    "from glob import glob\n",
    "from scipy.stats import f_oneway"
   ]
  },
  {
   "cell_type": "code",
   "execution_count": 9,
   "metadata": {},
   "outputs": [],
   "source": [
    "def load_f_score(model_id):\n",
    "    path = glob(f\"{SAVED_MODELS_BASE_PATH}/{model_id}/{model_id}_eval_test_*.json\")[0]\n",
    "    dump = json.load(open(path, 'r'))\n",
    "    records = dump[1:]\n",
    "    df = pd.DataFrame.from_records(records)\n",
    "    return df[\"F-measure_no_offset\"].mean()\n",
    "    "
   ]
  },
  {
   "cell_type": "code",
   "execution_count": 10,
   "metadata": {},
   "outputs": [],
   "source": [
    "def load_all_scores(model_ids):\n",
    "    return np.fromiter((load_f_score(id) for id in model_ids), dtype=float)\n"
   ]
  },
  {
   "cell_type": "code",
   "execution_count": 11,
   "metadata": {},
   "outputs": [],
   "source": [
    "cqt_model_ids = [\n",
    "    \"cqt_lr_e4_epoch_250\",\n",
    "    \"cqt_lr_e4_epoch_250_run2\",\n",
    "    \"cqt_lr_e4_epoch_250_run3\",\n",
    "    \"cqt_lr_e4_epoch_250_new_run1\",\n",
    "    \"cqt_lr_e4_epoch_250_new_run2\",\n",
    "    \"cqt_lr_e4_epoch_250_new_run3\",\n",
    "    \"cqt_lr_e4_epoch_250_new_run4\",\n",
    "    \"cqt_lr_e4_epoch_250_new_run5\",\n",
    "    \"cqt_lr_e4_epoch_250_new_run6\",\n",
    "    \"cqt_lr_e4_epoch_250_new_run7\",\n",
    "]\n",
    "\n",
    "swgm_model_ids = [\n",
    "    \"swgm_lr_e4_epoch_250\",\n",
    "    \"swgm_lr_e4_epoch_250_run2\",\n",
    "    \"swgm_lr_e4_epoch_250_run3\",\n",
    "    \"swgm_lr_e4_epoch_250_new_run1\",\n",
    "    \"swgm_lr_e4_epoch_250_new_run2\",\n",
    "    \"swgm_lr_e4_epoch_250_new_run3\",\n",
    "    \"swgm_lr_e4_epoch_250_new_run4\",\n",
    "    \"swgm_lr_e4_epoch_250_new_run5\",\n",
    "    \"swgm_lr_e4_epoch_250_new_run6\",\n",
    "    \"swgm_lr_e4_epoch_250_new_run7\",\n",
    "]\n",
    "\n",
    "fls_model_ids = [\n",
    "    \"fls_fw11_new\",\n",
    "    \"fls_lr_e4_fw11_epoch_250_run2\",\n",
    "    \"fls_lr_e4_fw11_epoch_250_run3\",\n",
    "    \"fls_lr_e4_epoch_250_new_run1\",\n",
    "    \"fls_lr_e4_epoch_250_new_run2\",\n",
    "    \"fls_lr_e4_epoch_250_new_run3\",\n",
    "    \"fls_lr_e4_epoch_250_new_run4\",\n",
    "    \"fls_lr_e4_epoch_250_new_run5\",\n",
    "    \"fls_lr_e4_epoch_250_new_run6\",\n",
    "    \"fls_lr_e4_epoch_250_new_run7\",\n",
    "]"
   ]
  },
  {
   "cell_type": "code",
   "execution_count": 14,
   "metadata": {},
   "outputs": [],
   "source": [
    "cqt_scores = load_all_scores(cqt_model_ids)\n",
    "swgm_scores = load_all_scores(swgm_model_ids)\n",
    "fls_scores = load_all_scores(fls_model_ids)\n",
    "\n",
    "all_scores = np.concatenate((cqt_scores[:, np.newaxis], swgm_scores[:, np.newaxis], fls_scores[:, np.newaxis]), axis=1)"
   ]
  },
  {
   "cell_type": "code",
   "execution_count": 19,
   "metadata": {},
   "outputs": [
    {
     "name": "stdout",
     "output_type": "stream",
     "text": [
      "CQT + SWGM + FLS\n",
      "F_onewayResult(statistic=44.60209998173221, pvalue=2.772784887284864e-09)\n",
      "CQT + SWGM\n",
      "F_onewayResult(statistic=46.08955971769854, pvalue=2.3339758339367476e-06)\n",
      "CQT + FLS\n",
      "F_onewayResult(statistic=63.88866244305314, pvalue=2.4812897859562307e-07)\n",
      "SWGM + FLS\n",
      "F_onewayResult(statistic=1.2424904379314479, pvalue=0.2796539447191441)\n"
     ]
    }
   ],
   "source": [
    "print(\"CQT + SWGM + FLS\")\n",
    "print(f_oneway(cqt_scores, swgm_scores, fls_scores))\n",
    "print(\"CQT + SWGM\")\n",
    "print(f_oneway(cqt_scores, swgm_scores))\n",
    "print(\"CQT + FLS\")\n",
    "print(f_oneway(cqt_scores, fls_scores))\n",
    "print(\"SWGM + FLS\")\n",
    "print(f_oneway(swgm_scores, fls_scores))"
   ]
  },
  {
   "cell_type": "code",
   "execution_count": 20,
   "metadata": {},
   "outputs": [
    {
     "data": {
      "image/png": "[encoded data removed]",
      "text/plain": [
       "<Figure size 640x480 with 1 Axes>"
      ]
     },
     "metadata": {},
     "output_type": "display_data"
    }
   ],
   "source": [
    "bplot = plt.boxplot(\n",
    "    all_scores,\n",
    "    vert=True,\n",
    "    #meanline=True,\n",
    "    patch_artist=True,\n",
    "    labels=[\"CQT\", \"SWGM\", \"FLS\"]\n",
    ")\n",
    "for patch, color in zip(bplot['boxes'], ['pink', 'lightblue', 'green']):\n",
    "    patch.set_facecolor(color)"
   ]
  },
  {
   "cell_type": "code",
   "execution_count": null,
   "metadata": {},
   "outputs": [],
   "source": []
  }
 ],
 "metadata": {
  "kernelspec": {
   "display_name": "pitch",
   "language": "python",
   "name": "python3"
  },
  "language_info": {
   "codemirror_mode": {
    "name": "ipython",
    "version": 3
   },
   "file_extension": ".py",
   "mimetype": "text/x-python",
   "name": "python",
   "nbconvert_exporter": "python",
   "pygments_lexer": "ipython3",
   "version": "3.8.13"
  }
 },
 "nbformat": 4,
 "nbformat_minor": 2
}
