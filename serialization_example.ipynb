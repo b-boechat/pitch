{
 "cells": [
  {
   "cell_type": "code",
   "execution_count": 15,
   "metadata": {},
   "outputs": [],
   "source": [
    "import tensorflow as tf\n",
    "import numpy as np\n",
    "\n",
    "from prepare_dataset import _bytes_feature"
   ]
  },
  {
   "cell_type": "code",
   "execution_count": 3,
   "metadata": {},
   "outputs": [
    {
     "data": {
      "text/plain": [
       "array([[2.12312, 3.     , 4.     ],\n",
       "       [5.     , 6.     , 7.     ]])"
      ]
     },
     "execution_count": 3,
     "metadata": {},
     "output_type": "execute_result"
    }
   ],
   "source": [
    "# Vetor numpy\n",
    "a = np.array([[2.12312, 3., 4.], [5., 6., 7.]], dtype=np.double)\n",
    "a"
   ]
  },
  {
   "cell_type": "code",
   "execution_count": 7,
   "metadata": {},
   "outputs": [
    {
     "data": {
      "text/plain": [
       "<tf.Tensor: shape=(), dtype=string, numpy=b'\\x08\\x02\\x12\\x08\\x12\\x02\\x08\\x02\\x12\\x02\\x08\\x03\"0@\\xde\\xabV&\\xfc\\x00@\\x00\\x00\\x00\\x00\\x00\\x00\\x08@\\x00\\x00\\x00\\x00\\x00\\x00\\x10@\\x00\\x00\\x00\\x00\\x00\\x00\\x14@\\x00\\x00\\x00\\x00\\x00\\x00\\x18@\\x00\\x00\\x00\\x00\\x00\\x00\\x1c@'>"
      ]
     },
     "execution_count": 7,
     "metadata": {},
     "output_type": "execute_result"
    }
   ],
   "source": [
    "# Serializa para a_bstring, com uma coerção implícita de \"a\" para tensor no argumento.\n",
    "a_bstring = tf.io.serialize_tensor(a)\n",
    "a_bstring\n"
   ]
  },
  {
   "cell_type": "code",
   "execution_count": 14,
   "metadata": {},
   "outputs": [
    {
     "data": {
      "text/plain": [
       "array([[2.12312, 3.     , 4.     ],\n",
       "       [5.     , 6.     , 7.     ]])"
      ]
     },
     "execution_count": 14,
     "metadata": {},
     "output_type": "execute_result"
    }
   ],
   "source": [
    "# (Forma de recuperar a)\n",
    "tf.io.parse_tensor(a_bstring, out_type=tf.float64).numpy()"
   ]
  },
  {
   "cell_type": "code",
   "execution_count": 9,
   "metadata": {},
   "outputs": [
    {
     "data": {
      "text/plain": [
       "features {\n",
       "  feature {\n",
       "    key: \"array\"\n",
       "    value {\n",
       "      bytes_list {\n",
       "        value: \"\\010\\002\\022\\010\\022\\002\\010\\002\\022\\002\\010\\003\\\"0@\\336\\253V&\\374\\000@\\000\\000\\000\\000\\000\\000\\010@\\000\\000\\000\\000\\000\\000\\020@\\000\\000\\000\\000\\000\\000\\024@\\000\\000\\000\\000\\000\\000\\030@\\000\\000\\000\\000\\000\\000\\034@\"\n",
       "      }\n",
       "    }\n",
       "  }\n",
       "}"
      ]
     },
     "execution_count": 9,
     "metadata": {},
     "output_type": "execute_result"
    }
   ],
   "source": [
    "# Cria o exemplo de treinamento com a_bstring como uma feature\n",
    "example = tf.train.Example(features=tf.train.Features(feature={\n",
    "    \"array\": _bytes_feature(a_bstring)\n",
    "}))\n",
    "example"
   ]
  },
  {
   "cell_type": "code",
   "execution_count": 10,
   "metadata": {},
   "outputs": [
    {
     "data": {
      "text/plain": [
       "b'\\nM\\nK\\n\\x05array\\x12B\\n@\\n>\\x08\\x02\\x12\\x08\\x12\\x02\\x08\\x02\\x12\\x02\\x08\\x03\"0@\\xde\\xabV&\\xfc\\x00@\\x00\\x00\\x00\\x00\\x00\\x00\\x08@\\x00\\x00\\x00\\x00\\x00\\x00\\x10@\\x00\\x00\\x00\\x00\\x00\\x00\\x14@\\x00\\x00\\x00\\x00\\x00\\x00\\x18@\\x00\\x00\\x00\\x00\\x00\\x00\\x1c@'"
      ]
     },
     "execution_count": 10,
     "metadata": {},
     "output_type": "execute_result"
    }
   ],
   "source": [
    "# Serializa o exemplo para uma string.\n",
    "string_example = example.SerializeToString()\n",
    "string_example"
   ]
  },
  {
   "cell_type": "code",
   "execution_count": 12,
   "metadata": {},
   "outputs": [
    {
     "data": {
      "text/plain": [
       "features {\n",
       "  feature {\n",
       "    key: \"array\"\n",
       "    value {\n",
       "      bytes_list {\n",
       "        value: \"\\010\\002\\022\\010\\022\\002\\010\\002\\022\\002\\010\\003\\\"0@\\336\\253V&\\374\\000@\\000\\000\\000\\000\\000\\000\\010@\\000\\000\\000\\000\\000\\000\\020@\\000\\000\\000\\000\\000\\000\\024@\\000\\000\\000\\000\\000\\000\\030@\\000\\000\\000\\000\\000\\000\\034@\"\n",
       "      }\n",
       "    }\n",
       "  }\n",
       "}"
      ]
     },
     "execution_count": 12,
     "metadata": {},
     "output_type": "execute_result"
    }
   ],
   "source": [
    "# Forma de recuperar o exemplo serializado.\n",
    "tf.train.Example.FromString(string_example)\n"
   ]
  },
  {
   "cell_type": "code",
   "execution_count": 13,
   "metadata": {},
   "outputs": [
    {
     "data": {
      "text/plain": [
       "{'array': <tf.Tensor: shape=(), dtype=string, numpy=b'\\x08\\x02\\x12\\x08\\x12\\x02\\x08\\x02\\x12\\x02\\x08\\x03\"0@\\xde\\xabV&\\xfc\\x00@\\x00\\x00\\x00\\x00\\x00\\x00\\x08@\\x00\\x00\\x00\\x00\\x00\\x00\\x10@\\x00\\x00\\x00\\x00\\x00\\x00\\x14@\\x00\\x00\\x00\\x00\\x00\\x00\\x18@\\x00\\x00\\x00\\x00\\x00\\x00\\x1c@'>}"
      ]
     },
     "execution_count": 13,
     "metadata": {},
     "output_type": "execute_result"
    }
   ],
   "source": [
    "# Forma de parsear o exemplo serializado para o a_bstring\n",
    "parsed_example = tf.io.parse_example(\n",
    "    string_example,\n",
    "    features = {\n",
    "        \"array\": tf.io.FixedLenFeature([], tf.string, default_value='')\n",
    "    }\n",
    ")\n",
    "parsed_example"
   ]
  },
  {
   "cell_type": "code",
   "execution_count": 63,
   "metadata": {},
   "outputs": [
    {
     "data": {
      "text/plain": [
       "array([[2.12312, 3.     , 4.     ],\n",
       "       [5.     , 6.     , 7.     ]])"
      ]
     },
     "execution_count": 63,
     "metadata": {},
     "output_type": "execute_result"
    }
   ],
   "source": [
    "# Forma de recuperar a (repetida).\n",
    "tf.io.parse_tensor(parsed_example[\"array\"], out_type=tf.float64).numpy()"
   ]
  },
  {
   "cell_type": "code",
   "execution_count": null,
   "metadata": {},
   "outputs": [],
   "source": []
  }
 ],
 "metadata": {
  "kernelspec": {
   "display_name": "base",
   "language": "python",
   "name": "python3"
  },
  "language_info": {
   "codemirror_mode": {
    "name": "ipython",
    "version": 3
   },
   "file_extension": ".py",
   "mimetype": "text/x-python",
   "name": "python",
   "nbconvert_exporter": "python",
   "pygments_lexer": "ipython3",
   "version": "3.9.12"
  },
  "orig_nbformat": 4,
  "vscode": {
   "interpreter": {
    "hash": "446a7b629ca27b16054539cfcd0bc26640e1996750c99d73a3c9cf275bbe03d4"
   }
  }
 },
 "nbformat": 4,
 "nbformat_minor": 2
}
