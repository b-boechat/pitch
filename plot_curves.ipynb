{
 "cells": [
  {
   "cell_type": "code",
   "execution_count": null,
   "metadata": {},
   "outputs": [],
   "source": [
    "import matplotlib.pyplot as plt\n",
    "import json\n",
    "\n",
    "def plot_learning_curves(model_history_path):\n",
    "    history_dict = json.load(open(f\"{model_history_path}\", 'r'))\n",
    "    plt.figure()\n",
    "    plt.plot(history_dict[\"loss\"])\n",
    "    plt.plot(history_dict[\"val_loss\"])\n",
    "    plt.legend(['train', 'test'], loc='upper left')\n",
    "    plt.show()\n",
    "    print(f\"Training loss: {history_dict['loss'][-1]}\")\n",
    "    print(f\"Validation loss: {history_dict['val_loss'][-1]}\")\n",
    "\n",
    "plot_learning_curves(\"saved_models/history_swgm_e200.json\")\n",
    "plot_learning_curves(\"saved_models/fls_base_model/fls_base_model_history.json\")\n"
   ]
  },
  {
   "cell_type": "code",
   "execution_count": 22,
   "metadata": {},
   "outputs": [
    {
     "name": "stdout",
     "output_type": "stream",
     "text": [
      "Precision_no_offset 0.43818748817353514\n",
      "Recall_no_offset 0.7393313116627173\n",
      "F-measure_no_offset 0.5308297579300599\n",
      "Average_Overlap_Ratio_no_offset 0.46383342127343513\n",
      "Onset_Precision 0.4664621856349336\n",
      "Onset_Recall 0.7892977598463309\n",
      "Onset_F-measure 0.5654051897568558\n"
     ]
    }
   ],
   "source": [
    "import pandas as pd\n",
    "\n",
    "def read_metrics(path):\n",
    "    df = pd.read_json(open(path, 'r'), orient=\"records\")\n",
    "    for key in df.keys():\n",
    "        if key != \"id\":\n",
    "            print(key, df[key].mean())\n",
    "\n",
    "\n",
    "#read_metrics(\"saved_models/fls_base_model/fls_base_model_predictions_preview.json\")\n",
    "\n",
    "read_metrics(\"saved_models/cqt_base_model/cqt_base_model_preview.json\")"
   ]
  }
 ],
 "metadata": {
  "kernelspec": {
   "display_name": "pitch",
   "language": "python",
   "name": "python3"
  },
  "language_info": {
   "codemirror_mode": {
    "name": "ipython",
    "version": 3
   },
   "file_extension": ".py",
   "mimetype": "text/x-python",
   "name": "python",
   "nbconvert_exporter": "python",
   "pygments_lexer": "ipython3",
   "version": "3.8.13"
  },
  "orig_nbformat": 4,
  "vscode": {
   "interpreter": {
    "hash": "4e7d6cadf5e5ba9c58551a621c1efcfed39847f40ef9c7f7419f603fed865a2e"
   }
  }
 },
 "nbformat": 4,
 "nbformat_minor": 2
}
